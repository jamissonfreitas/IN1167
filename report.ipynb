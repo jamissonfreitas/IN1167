{
  "nbformat": 4,
  "nbformat_minor": 0,
  "metadata": {
    "colab": {
      "name": "report.ipynb",
      "provenance": [],
      "include_colab_link": true
    },
    "kernelspec": {
      "name": "python3",
      "display_name": "Python 3"
    }
  },
  "cells": [
    {
      "cell_type": "markdown",
      "metadata": {
        "id": "view-in-github",
        "colab_type": "text"
      },
      "source": [
        "<a href=\"https://colab.research.google.com/github/jamissonfreitas/IN1167/blob/master/report.ipynb\" target=\"_parent\"><img src=\"https://colab.research.google.com/assets/colab-badge.svg\" alt=\"Open In Colab\"/></a>"
      ]
    },
    {
      "cell_type": "code",
      "metadata": {
        "id": "wxBcwVLCmsA3",
        "colab_type": "code",
        "colab": {}
      },
      "source": [
        "import pandas as pd\n",
        "import io\n",
        "import requests\n",
        "# lib to plot the data\n",
        "import matplotlib.pyplot as plt\n",
        "# lib to use the decompositio in the time series\n",
        "from statsmodels.tsa.seasonal import seasonal_decompose\n",
        "# lib to use the acf and pcf correlations\n",
        "from statsmodels.graphics.tsaplots import plot_acf, plot_pacf\n",
        "# lib to organize the data in data frame\n",
        "from pandas import DataFrame\n",
        "# lib to organize the time series by periods\n",
        "from pandas import TimeGrouper"
      ],
      "execution_count": 0,
      "outputs": []
    },
    {
      "cell_type": "markdown",
      "metadata": {
        "id": "6T833xkwpf7W",
        "colab_type": "text"
      },
      "source": [
        "# Monthly Sunspots\n",
        "\n",
        "This dataset describes a monthly count of the number of observed sunspots for just over 230 years (1749-1983).\n",
        "\n",
        "The units are a count and there are 2,820 observations. The source of the dataset is credited to Andrews & Herzberg (1985)"
      ]
    },
    {
      "cell_type": "code",
      "metadata": {
        "id": "FPU0qxvTpfAe",
        "colab_type": "code",
        "colab": {
          "base_uri": "https://localhost:8080/",
          "height": 104
        },
        "outputId": "7e6d5eb7-2e77-412f-9523-ef8c72c5fc41"
      },
      "source": [
        "url='https://raw.githubusercontent.com/jamissonfreitas/IN1167/master/monthly-sunspots.csv'\n",
        "data = requests.get(url).content\n",
        "data = data.decode('utf-8').replace(\"\\\"\",\"\").split('\\n')\n",
        "data = [d.strip().split(',') for d in data][1:-1]\n",
        "data[:5]"
      ],
      "execution_count": 21,
      "outputs": [
        {
          "output_type": "execute_result",
          "data": {
            "text/plain": [
              "[['1749-01', '58.0'],\n",
              " ['1749-02', '62.6'],\n",
              " ['1749-03', '70.0'],\n",
              " ['1749-04', '55.7'],\n",
              " ['1749-05', '85.0']]"
            ]
          },
          "metadata": {
            "tags": []
          },
          "execution_count": 21
        }
      ]
    },
    {
      "cell_type": "code",
      "metadata": {
        "id": "MSGNBqCNqkpG",
        "colab_type": "code",
        "colab": {
          "base_uri": "https://localhost:8080/",
          "height": 1000
        },
        "outputId": "45fd1621-f0b7-4040-f4bb-41d237b398c4"
      },
      "source": [
        "df = pd.DataFrame(\n",
        "    data, \n",
        "    columns=['Month', 'Sunspots']\n",
        ") \n",
        "df['Month'] = pd.to_datetime(df['Month'], format='%Y-%m', errors='coerce')\n",
        "df = df.set_index(df['Month'])\n",
        "serie = df['Sunspots']\n",
        "serie"
      ],
      "execution_count": 24,
      "outputs": [
        {
          "output_type": "execute_result",
          "data": {
            "text/plain": [
              "Month\n",
              "1749-01-01     58.0\n",
              "1749-02-01     62.6\n",
              "1749-03-01     70.0\n",
              "1749-04-01     55.7\n",
              "1749-05-01     85.0\n",
              "1749-06-01     83.5\n",
              "1749-07-01     94.8\n",
              "1749-08-01     66.3\n",
              "1749-09-01     75.9\n",
              "1749-10-01     75.5\n",
              "1749-11-01    158.6\n",
              "1749-12-01     85.2\n",
              "1750-01-01     73.3\n",
              "1750-02-01     75.9\n",
              "1750-03-01     89.2\n",
              "1750-04-01     88.3\n",
              "1750-05-01     90.0\n",
              "1750-06-01    100.0\n",
              "1750-07-01     85.4\n",
              "1750-08-01    103.0\n",
              "1750-09-01     91.2\n",
              "1750-10-01     65.7\n",
              "1750-11-01     63.3\n",
              "1750-12-01     75.4\n",
              "1751-01-01     70.0\n",
              "1751-02-01     43.5\n",
              "1751-03-01     45.3\n",
              "1751-04-01     56.4\n",
              "1751-05-01     60.7\n",
              "1751-06-01     50.7\n",
              "              ...  \n",
              "1981-07-01    143.8\n",
              "1981-08-01    158.7\n",
              "1981-09-01    167.3\n",
              "1981-10-01    162.4\n",
              "1981-11-01    137.5\n",
              "1981-12-01    150.1\n",
              "1982-01-01    111.2\n",
              "1982-02-01    163.6\n",
              "1982-03-01    153.8\n",
              "1982-04-01    122.0\n",
              "1982-05-01     82.2\n",
              "1982-06-01    110.4\n",
              "1982-07-01    106.1\n",
              "1982-08-01    107.6\n",
              "1982-09-01    118.8\n",
              "1982-10-01     94.7\n",
              "1982-11-01     98.1\n",
              "1982-12-01    127.0\n",
              "1983-01-01     84.3\n",
              "1983-02-01     51.0\n",
              "1983-03-01     66.5\n",
              "1983-04-01     80.7\n",
              "1983-05-01     99.2\n",
              "1983-06-01     91.1\n",
              "1983-07-01     82.2\n",
              "1983-08-01     71.8\n",
              "1983-09-01     50.3\n",
              "1983-10-01     55.8\n",
              "1983-11-01     33.3\n",
              "1983-12-01     33.4\n",
              "Name: Sunspots, Length: 2820, dtype: object"
            ]
          },
          "metadata": {
            "tags": []
          },
          "execution_count": 24
        }
      ]
    },
    {
      "cell_type": "code",
      "metadata": {
        "id": "ORIeJd-1u-PA",
        "colab_type": "code",
        "colab": {
          "base_uri": "https://localhost:8080/",
          "height": 295
        },
        "outputId": "e58ccd49-47aa-4cda-b483-592a600a0e21"
      },
      "source": [
        "serie = serie.astype(float)\n",
        "serie.plot()\n",
        "plt.title('Monthly Sunspots')\n",
        "plt.ylabel('Sunspots')\n",
        "plt.xlabel('Month')\n",
        "plt.show()"
      ],
      "execution_count": 25,
      "outputs": [
        {
          "output_type": "display_data",
          "data": {
            "image/png": "[encoded data removed]",
            "text/plain": [
              "<Figure size 432x288 with 1 Axes>"
            ]
          },
          "metadata": {
            "tags": []
          }
        }
      ]
    },
    {
      "cell_type": "code",
      "metadata": {
        "id": "_2iqbAf00i7H",
        "colab_type": "code",
        "colab": {}
      },
      "source": [
        ""
      ],
      "execution_count": 0,
      "outputs": []
    }
  ]
}